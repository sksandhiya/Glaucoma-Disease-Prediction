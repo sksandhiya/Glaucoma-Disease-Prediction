{
 "cells": [
  {
   "cell_type": "code",
   "execution_count": null,
   "id": "8eba3c0f",
   "metadata": {},
   "outputs": [],
   "source": [
    "import os\n",
    "import glob \n",
    "import numpy as np\n",
    "import pandas as pd\n",
    "from PIL import Image\n",
    "from pathlib import Path\n",
    "from tensorflow import keras\n",
    "from keras.models import Sequential, Model, load_model\n",
    "from keras.applications.vgg16 import VGG16, preprocess_input\n",
    "from keras.preprocessing.image import ImageDataGenerator\n",
    "from tensorflow.keras.utils import load_img, img_to_array\n",
    "from keras.layers import Conv2D, MaxPooling2D, Dense, Dropout, Input, Flatten, activation\n",
    "from keras.optimizers import Adam, SGD, RMSprop\n",
    "from keras.callbacks import Callback, EarlyStopping\n",
    "from keras.utils import to_categorical\n",
    "from sklearn.metrics import confusion_matrix\n",
    "from keras import backend as k\n",
    "import tensorflow as tf\n",
    "import matplotlib.pyplot as plt\n",
    "%matplotlib inline\n",
    "\n"
   ]
  },
  {
   "cell_type": "code",
   "execution_count": null,
   "id": "153570cc",
   "metadata": {},
   "outputs": [],
   "source": [
    "train_directory = \"C:\\\\Users\\\\Admin\\Desktop\\\\archive\\\\Fundus_Train_Val_Data\\\\Fundus_Scanes_Sorted\\\\train\"\n",
    "test_directory = \"C:\\\\Users\\\\Admin\\\\esktop\\\\archive\\\\Fundus_Train_Val_Data\\\\Fundus_Scanes_Sorted\\\\test\""
   ]
  },
  {
   "cell_type": "code",
   "execution_count": null,
   "id": "b73169e4",
   "metadata": {},
   "outputs": [],
   "source": [
    "train_datagen = ImageDataGenerator(rescale=1./255,                   \n",
    "                                   validation_split=0.2)"
   ]
  },
  {
   "cell_type": "code",
   "execution_count": null,
   "id": "9bf578bf",
   "metadata": {},
   "outputs": [],
   "source": [
    "train_generator = train_datagen.flow_from_directory(\n",
    "train_directory, \n",
    "target_size=(256,256), \n",
    "color_mode='rgb', \n",
    "batch_size=64, \n",
    "class_mode='categorical', \n",
    "subset='training',\n",
    "shuffle=True,\n",
    "seed=42\n",
    ")\n",
    "validation_generator = train_datagen.flow_from_directory(\n",
    "train_directory,\n",
    "target_size=(256,256), \n",
    "color_mode='rgb', \n",
    "batch_size=64, \n",
    "class_mode='categorical', \n",
    "subset='validation', \n",
    "shuffle=False\n",
    ")\n"
   ]
  },
  {
   "cell_type": "code",
   "execution_count": 32,
   "id": "54a8b67c",
   "metadata": {},
   "outputs": [
    {
     "name": "stdout",
     "output_type": "stream",
     "text": [
      "['test', 'train']\n"
     ]
    }
   ],
   "source": [
    "print(os.listdir(\"C:\\\\Users\\\\Admin\\\\Desktop\\\\archive\\\\Fundus_Train_Val_Data\\\\Fundus_Scanes_Sorted\"))"
   ]
  },
  {
   "cell_type": "code",
   "execution_count": 38,
   "id": "03ed7a41",
   "metadata": {},
   "outputs": [],
   "source": [
    "data_dir =Path(\"C:\\\\Users\\\\Admin\\\\Desktop\\\\archive\\\\Fundus_Train_Val_Data\\\\Fundus_Scanes_Sorted\")\n",
    "train_dir= data_dir/'train'\n",
    "test_dir=data_dir/'test'\n",
    "\n"
   ]
  },
  {
   "cell_type": "code",
   "execution_count": null,
   "id": "4f18116a",
   "metadata": {},
   "outputs": [],
   "source": [
    "def load_train():\n",
    "    normal_cases_dir = train_dir /'Glaucoma_Negative'\n",
    "    affected_cases_dir = train_dir /'Glaucoma_Positive'\n",
    "    normal_cases = normal_cases_dir.glob('*.jpg')\n",
    "    affected_cases = affected_cases_dir.glob('*.jpg')\n",
    "    train_data=[]\n",
    "    train_label=[]\n",
    "    for img in normal_cases:\n",
    "        train_data.append(img)\n",
    "        train_label.append('Glaucoma_Negative')\n",
    "    for img in affected_cases:\n",
    "        train_data.append(img)\n",
    "        train_label.append('Glaucoma_Positive')\n",
    "    df=pd.DataFrame(train_data)\n",
    "    \n",
    "    df['labels']=train_label\n",
    "    df=df.sample(frac=1).reset_index(drop=True)\n",
    "    return df\n",
    "    \n"
   ]
  },
  {
   "cell_type": "code",
   "execution_count": 66,
   "id": "3bcb79d5",
   "metadata": {},
   "outputs": [
    {
     "data": {
      "text/plain": [
       "(520, 2)"
      ]
     },
     "execution_count": 66,
     "metadata": {},
     "output_type": "execute_result"
    }
   ],
   "source": [
    "train_data=load_train()\n",
    "train_data.shape"
   ]
  },
  {
   "cell_type": "code",
   "execution_count": null,
   "id": "17c289e6",
   "metadata": {},
   "outputs": [],
   "source": [
    "plt.bar(train_data['labels'].value_counts().index,train_data['labels'].value_counts().values)\n",
    "plt.show()"
   ]
  },
  {
   "cell_type": "code",
   "execution_count": null,
   "id": "c7f3ada6",
   "metadata": {},
   "outputs": [],
   "source": [
    "def plot(image_batch, label_batch):\n",
    "    plot.figure(figsize=(10,5))\n",
    "    for i in range(10):\n",
    "        ax = plt.subplot(2,5,i+1)\n",
    "        img = cv2.imread(str(image_batch[i]))\n",
    "        img = cv2.resize(img, (224,224))\n",
    "        plt.imshow(img)\n",
    "        plt.title(label_batch[i])\n",
    "        plt.axis(\"off\")"
   ]
  },
  {
   "cell_type": "code",
   "execution_count": null,
   "id": "b3471c61",
   "metadata": {},
   "outputs": [],
   "source": []
  },
  {
   "cell_type": "code",
   "execution_count": null,
   "id": "e7b1eb93",
   "metadata": {},
   "outputs": [],
   "source": [
    "import tensorflow as tf\n",
    "from tensorflow.keras.models import Sequential\n",
    "from tensorflow.keras.layers import BatchNormalization, Dense, Dropout, Activation, Flatten, Conv2D, MaxPooling2D\n",
    "from tensorflow.keras.layers import ZeroPadding2D\n",
    "#from keras.layers.normalization import BatchNormalization\n",
    "\n",
    "from tensorflow.keras.preprocessing.image import ImageDataGenerator\n",
    "\n",
    "model = Sequential()\n",
    "\n",
    "model.add(Conv2D(64, (9, 9), input_shape=(100,100,3),padding='same'))\n",
    "model.add(BatchNormalization())\n",
    "model.add(Activation('relu'))\n",
    "model.add(MaxPooling2D(pool_size=(2, 2)))\n",
    "\n",
    "model.add(Conv2D(128, (5, 5), padding='same'))\n",
    "model.add(BatchNormalization())\n",
    "model.add(Activation('relu'))\n",
    "model.add(MaxPooling2D(pool_size=(2, 2)))\n",
    "\n",
    "model.add(ZeroPadding2D((1, 1)))\n",
    "model.add(Conv2D(256, (3, 3), padding='same'))\n",
    "model.add(BatchNormalization())\n",
    "model.add(Activation('relu'))\n",
    "model.add(MaxPooling2D(pool_size=(2, 2)))\n",
    "\n",
    "model.add(ZeroPadding2D((1, 1)))\n",
    "model.add(Conv2D(512, (3, 3), padding='same'))\n",
    "model.add(BatchNormalization())\n",
    "model.add(Activation('relu'))\n",
    "\n",
    "model.add(ZeroPadding2D((1, 1)))\n",
    "model.add(Conv2D(512, (3, 3), padding='same'))\n",
    "model.add(BatchNormalization())\n",
    "model.add(Activation('relu'))\n",
    "model.add(MaxPooling2D(pool_size=(2, 2)))\n",
    "\n",
    "model.add(Flatten())\n",
    "model.add(Dense(64))\n",
    "model.add(BatchNormalization())\n",
    "model.add(Activation('relu'))\n",
    "model.add(Dropout(0.5))\n",
    "\n",
    "model.add(Dense(128))\n",
    "model.add(BatchNormalization())\n",
    "model.add(Activation('relu'))\n",
    "model.add(Dropout(0.5))\n",
    "\n",
    "model.add(Dense(1))\n",
    "model.add(BatchNormalization())\n",
    "model.add(Activation('sigmoid'))\n",
    "\n",
    "model.compile(loss='binary_crossentropy', optimizer='adam', metrics=['accuracy'])\n",
    "\n",
    "train_datagen = ImageDataGenerator(rescale = 1./255,\n",
    "                                   rotation_range=30,\n",
    "                                   shear_range=0.2,\n",
    "                                   zoom_range=[0.8, 1.2],\n",
    "                                    horizontal_flip=True,\n",
    "#                                     vertical_flip = True,\n",
    "                                    fill_mode='nearest')\n",
    "\n",
    "test_datagen = ImageDataGenerator(rescale = 1./255)\n",
    "\n",
    "training_set = train_datagen.flow_from_directory(\"C:\\\\Users\\\\Admin\\\\Desktop\\\\archive\\\\Fundus_Train_Val_Data\\\\Fundus_Scanes_Sorted\\\\train\",\n",
    "                                                 target_size = (100, 100),\n",
    "                                                 batch_size = 64,\n",
    "                                                 class_mode = 'binary')\n",
    "\n",
    "test_set = test_datagen.flow_from_directory(\"C:\\\\Users\\\\Admin\\\\Desktop\\\\archive\\\\Fundus_Train_Val_Data\\\\Fundus_Scanes_Sorted\\\\test\",\n",
    "                                            target_size = (100, 100),\n",
    "                                            batch_size = 64,\n",
    "                                            class_mode = 'binary')\n",
    "my_callbacks = [\n",
    "    # tf.keras.callbacks.EarlyStopping(patience=4, verbose=1),\n",
    "    tf.keras.callbacks.ReduceLROnPlateau(factor=0.1, patience=3, min_lr=0.00001, verbose=1),\n",
    "    tf.keras.callbacks.ModelCheckpoint('my_model2.h5', \n",
    "    verbose=1, save_best_only=True, save_weights_only=False) \n",
    "    ]\n",
    "\n",
    "model.fit(training_set, epochs=100, validation_data = test_set, callbacks=my_callbacks)\n",
    "\n",
    "model.save('my_model3.h5')"
   ]
  },
  {
   "cell_type": "code",
   "execution_count": null,
   "id": "cc9a207a",
   "metadata": {},
   "outputs": [],
   "source": [
    "import streamlit as st\n",
    "import tensorflow as tf\n",
    "from PIL import Image, ImageOps\n",
    "import numpy as np\n",
    "\n",
    "st.set_option('deprecation.showfileUploaderEncoding', False)\n",
    "\n",
    "# @st.cache(suppress_st_warning=True,allow_output_mutation=True)\n",
    "def import_and_predict(image_data, model):\n",
    "    image = ImageOps.fit(image_data, (100,100),Image.ANTIALIAS)\n",
    "    image = image.convert('RGB')\n",
    "    image = np.asarray(image)\n",
    "    st.image(image, channels='RGB')\n",
    "    image = (image.astype(np.float32) / 255.0)\n",
    "    img_reshape = image[np.newaxis,...]\n",
    "    prediction = model.predict(img_reshape)\n",
    "    return prediction\n",
    "\n",
    "model = tf.keras.models.load_model('my_model2.h5')\n",
    "\n",
    "st.write(\"\"\"\n",
    "         # ***Glaucoma detector***\n",
    "         \"\"\"\n",
    "         )\n",
    "\n",
    "st.write(\"This is a simple image classification web app to predict glaucoma through fundus image of eye\")\n",
    "\n",
    "file = st.file_uploader(\"Please upload an image(jpg) file\", type=[\"jpg\"])\n",
    "\n",
    "if file is None:\n",
    "    st.text(\"You haven't uploaded a jpg image file\")\n",
    "else:\n",
    "    imageI = Image.open(file)\n",
    "    prediction = import_and_predict(imageI, model)\n",
    "    pred = prediction[0][0]\n",
    "    if(pred > 0.5):\n",
    "        st.write(\"\"\"\n",
    "                 ## **Prediction:** Your eye is Healthy. Great!!\n",
    "                 \"\"\"\n",
    "                 )\n",
    "        st.balloons()\n",
    "    else:\n",
    "        st.write(\"\"\"\n",
    "                 ## **Prediction:** You are affected by Glaucoma. Please consult an ophthalmologist as soon as possible.\n",
    "                 \"\"\"\n",
    "                 )"
   ]
  },
  {
   "cell_type": "code",
   "execution_count": null,
   "id": "c3cb7cd8",
   "metadata": {},
   "outputs": [],
   "source": []
  }
 ],
 "metadata": {
  "kernelspec": {
   "display_name": "Python 3 (ipykernel)",
   "language": "python",
   "name": "python3"
  },
  "language_info": {
   "codemirror_mode": {
    "name": "ipython",
    "version": 3
   },
   "file_extension": ".py",
   "mimetype": "text/x-python",
   "name": "python",
   "nbconvert_exporter": "python",
   "pygments_lexer": "ipython3",
   "version": "3.9.12"
  }
 },
 "nbformat": 4,
 "nbformat_minor": 5
}
